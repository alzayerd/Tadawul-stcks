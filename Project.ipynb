{
  "cells": [
    {
      "cell_type": "markdown",
      "metadata": {
        "id": "view-in-github",
        "colab_type": "text"
      },
      "source": [
        "<a href=\"https://colab.research.google.com/github/alzayerd/Tadawul-stcks/blob/main/Project.ipynb\" target=\"_parent\"><img src=\"https://colab.research.google.com/assets/colab-badge.svg\" alt=\"Open In Colab\"/></a>"
      ]
    },
    {
      "cell_type": "code",
      "execution_count": 1,
      "metadata": {
        "id": "0eFEvs3S94kS",
        "colab": {
          "base_uri": "https://localhost:8080/"
        },
        "outputId": "e6001ced-ec0a-4e83-fa9e-3ea69af946c8"
      },
      "outputs": [
        {
          "output_type": "stream",
          "name": "stderr",
          "text": [
            "/usr/local/lib/python3.7/dist-packages/statsmodels/tools/_testing.py:19: FutureWarning: pandas.util.testing is deprecated. Use the functions in the public API at pandas.testing instead.\n",
            "  import pandas.util.testing as tm\n"
          ]
        }
      ],
      "source": [
        "import pandas as pd\n",
        "import numpy as np\n",
        "import statsmodels.api as sm\n",
        "import statsmodels.formula.api as smf\n",
        "import patsy\n",
        "\n",
        "import seaborn as sns\n",
        "import matplotlib.pyplot as plt\n",
        "from sklearn.linear_model import LinearRegression\n",
        "from sklearn.linear_model import RidgeCV\n",
        "%matplotlib inline"
      ]
    },
    {
      "cell_type": "code",
      "execution_count": 2,
      "metadata": {
        "id": "60TL2wlI-8PH",
        "colab": {
          "base_uri": "https://localhost:8080/",
          "height": 204
        },
        "outputId": "b40a6428-4328-45df-c095-096095aba098"
      },
      "outputs": [
        {
          "output_type": "execute_result",
          "data": {
            "text/html": [
              "<div>\n",
              "<style scoped>\n",
              "    .dataframe tbody tr th:only-of-type {\n",
              "        vertical-align: middle;\n",
              "    }\n",
              "\n",
              "    .dataframe tbody tr th {\n",
              "        vertical-align: top;\n",
              "    }\n",
              "\n",
              "    .dataframe thead th {\n",
              "        text-align: right;\n",
              "    }\n",
              "</style>\n",
              "<table border=\"1\" class=\"dataframe\">\n",
              "  <thead>\n",
              "    <tr style=\"text-align: right;\">\n",
              "      <th></th>\n",
              "      <th>symbol</th>\n",
              "      <th>name</th>\n",
              "      <th>trading_name</th>\n",
              "      <th>sectoer</th>\n",
              "      <th>date</th>\n",
              "      <th>open</th>\n",
              "      <th>high</th>\n",
              "      <th>low</th>\n",
              "      <th>close</th>\n",
              "      <th>change</th>\n",
              "      <th>perc_Change</th>\n",
              "      <th>volume_traded</th>\n",
              "      <th>value_traded</th>\n",
              "      <th>no_trades</th>\n",
              "    </tr>\n",
              "  </thead>\n",
              "  <tbody>\n",
              "    <tr>\n",
              "      <th>0</th>\n",
              "      <td>2030</td>\n",
              "      <td>Saudi Arabia Refineries Co.</td>\n",
              "      <td>SARCO</td>\n",
              "      <td>Energy</td>\n",
              "      <td>2020-03-05</td>\n",
              "      <td>35.55</td>\n",
              "      <td>35.85</td>\n",
              "      <td>34.90</td>\n",
              "      <td>34.90</td>\n",
              "      <td>-0.40</td>\n",
              "      <td>-1.13</td>\n",
              "      <td>436609.0</td>\n",
              "      <td>15399073.50</td>\n",
              "      <td>804.0</td>\n",
              "    </tr>\n",
              "    <tr>\n",
              "      <th>1</th>\n",
              "      <td>2030</td>\n",
              "      <td>Saudi Arabia Refineries Co.</td>\n",
              "      <td>SARCO</td>\n",
              "      <td>Energy</td>\n",
              "      <td>2020-03-04</td>\n",
              "      <td>34.70</td>\n",
              "      <td>35.65</td>\n",
              "      <td>34.50</td>\n",
              "      <td>35.30</td>\n",
              "      <td>0.25</td>\n",
              "      <td>0.71</td>\n",
              "      <td>737624.0</td>\n",
              "      <td>25981391.35</td>\n",
              "      <td>1268.0</td>\n",
              "    </tr>\n",
              "    <tr>\n",
              "      <th>2</th>\n",
              "      <td>2030</td>\n",
              "      <td>Saudi Arabia Refineries Co.</td>\n",
              "      <td>SARCO</td>\n",
              "      <td>Energy</td>\n",
              "      <td>2020-03-03</td>\n",
              "      <td>34.70</td>\n",
              "      <td>35.15</td>\n",
              "      <td>34.70</td>\n",
              "      <td>35.05</td>\n",
              "      <td>1.05</td>\n",
              "      <td>3.09</td>\n",
              "      <td>489831.0</td>\n",
              "      <td>17116413.40</td>\n",
              "      <td>854.0</td>\n",
              "    </tr>\n",
              "    <tr>\n",
              "      <th>3</th>\n",
              "      <td>2030</td>\n",
              "      <td>Saudi Arabia Refineries Co.</td>\n",
              "      <td>SARCO</td>\n",
              "      <td>Energy</td>\n",
              "      <td>2020-03-02</td>\n",
              "      <td>35.20</td>\n",
              "      <td>35.65</td>\n",
              "      <td>34.00</td>\n",
              "      <td>34.00</td>\n",
              "      <td>-0.55</td>\n",
              "      <td>-1.59</td>\n",
              "      <td>736157.0</td>\n",
              "      <td>25858700.60</td>\n",
              "      <td>1242.0</td>\n",
              "    </tr>\n",
              "    <tr>\n",
              "      <th>4</th>\n",
              "      <td>2030</td>\n",
              "      <td>Saudi Arabia Refineries Co.</td>\n",
              "      <td>SARCO</td>\n",
              "      <td>Energy</td>\n",
              "      <td>2020-03-01</td>\n",
              "      <td>35.35</td>\n",
              "      <td>35.60</td>\n",
              "      <td>34.25</td>\n",
              "      <td>34.55</td>\n",
              "      <td>-2.05</td>\n",
              "      <td>-5.60</td>\n",
              "      <td>738685.0</td>\n",
              "      <td>25747967.55</td>\n",
              "      <td>1625.0</td>\n",
              "    </tr>\n",
              "  </tbody>\n",
              "</table>\n",
              "</div>"
            ],
            "text/plain": [
              "   symbol                         name  ... value_traded no_trades \n",
              "0    2030  Saudi Arabia Refineries Co.  ...  15399073.50      804.0\n",
              "1    2030  Saudi Arabia Refineries Co.  ...  25981391.35     1268.0\n",
              "2    2030  Saudi Arabia Refineries Co.  ...  17116413.40      854.0\n",
              "3    2030  Saudi Arabia Refineries Co.  ...  25858700.60     1242.0\n",
              "4    2030  Saudi Arabia Refineries Co.  ...  25747967.55     1625.0\n",
              "\n",
              "[5 rows x 14 columns]"
            ]
          },
          "metadata": {},
          "execution_count": 2
        }
      ],
      "source": [
        "df = pd.read_csv('Tadawul_stcks.csv') # reading the data \n",
        "df.head() # To display the top 5 rows"
      ]
    },
    {
      "cell_type": "code",
      "execution_count": 3,
      "metadata": {
        "id": "1bOWseX5_AKz",
        "colab": {
          "base_uri": "https://localhost:8080/"
        },
        "outputId": "dea4cafb-21cc-4cab-97e5-e063ee50958e"
      },
      "outputs": [
        {
          "output_type": "execute_result",
          "data": {
            "text/plain": [
              "symbol              int64\n",
              "name               object\n",
              "trading_name       object\n",
              "sectoer            object\n",
              "date               object\n",
              "open              float64\n",
              "high              float64\n",
              "low               float64\n",
              "close             float64\n",
              "change            float64\n",
              "perc_Change       float64\n",
              "volume_traded     float64\n",
              "value_traded      float64\n",
              "no_trades         float64\n",
              "dtype: object"
            ]
          },
          "metadata": {},
          "execution_count": 3
        }
      ],
      "source": [
        "df.dtypes # to check the type of data "
      ]
    },
    {
      "cell_type": "code",
      "execution_count": 4,
      "metadata": {
        "id": "5HkslWMY_FLV",
        "colab": {
          "base_uri": "https://localhost:8080/"
        },
        "outputId": "72f8132d-3a54-43a2-fab3-ec2c8c312b08"
      },
      "outputs": [
        {
          "output_type": "execute_result",
          "data": {
            "text/plain": [
              "(593819, 14)"
            ]
          },
          "metadata": {},
          "execution_count": 4
        }
      ],
      "source": [
        "df.shape # Total number of rows and columns"
      ]
    },
    {
      "cell_type": "code",
      "source": [
        "df.drop('sectoer',axis=1) # dropping the sector column\n"
      ],
      "metadata": {
        "colab": {
          "base_uri": "https://localhost:8080/",
          "height": 419
        },
        "id": "fAPj75MJRSCD",
        "outputId": "da6dea8d-ebdf-4221-eb3e-ef98374c14c2"
      },
      "execution_count": 5,
      "outputs": [
        {
          "output_type": "execute_result",
          "data": {
            "text/html": [
              "<div>\n",
              "<style scoped>\n",
              "    .dataframe tbody tr th:only-of-type {\n",
              "        vertical-align: middle;\n",
              "    }\n",
              "\n",
              "    .dataframe tbody tr th {\n",
              "        vertical-align: top;\n",
              "    }\n",
              "\n",
              "    .dataframe thead th {\n",
              "        text-align: right;\n",
              "    }\n",
              "</style>\n",
              "<table border=\"1\" class=\"dataframe\">\n",
              "  <thead>\n",
              "    <tr style=\"text-align: right;\">\n",
              "      <th></th>\n",
              "      <th>symbol</th>\n",
              "      <th>name</th>\n",
              "      <th>trading_name</th>\n",
              "      <th>date</th>\n",
              "      <th>open</th>\n",
              "      <th>high</th>\n",
              "      <th>low</th>\n",
              "      <th>close</th>\n",
              "      <th>change</th>\n",
              "      <th>perc_Change</th>\n",
              "      <th>volume_traded</th>\n",
              "      <th>value_traded</th>\n",
              "      <th>no_trades</th>\n",
              "    </tr>\n",
              "  </thead>\n",
              "  <tbody>\n",
              "    <tr>\n",
              "      <th>0</th>\n",
              "      <td>2030</td>\n",
              "      <td>Saudi Arabia Refineries Co.</td>\n",
              "      <td>SARCO</td>\n",
              "      <td>2020-03-05</td>\n",
              "      <td>35.55</td>\n",
              "      <td>35.85</td>\n",
              "      <td>34.90</td>\n",
              "      <td>34.90</td>\n",
              "      <td>-0.40</td>\n",
              "      <td>-1.13</td>\n",
              "      <td>436609.0</td>\n",
              "      <td>1.539907e+07</td>\n",
              "      <td>804.0</td>\n",
              "    </tr>\n",
              "    <tr>\n",
              "      <th>1</th>\n",
              "      <td>2030</td>\n",
              "      <td>Saudi Arabia Refineries Co.</td>\n",
              "      <td>SARCO</td>\n",
              "      <td>2020-03-04</td>\n",
              "      <td>34.70</td>\n",
              "      <td>35.65</td>\n",
              "      <td>34.50</td>\n",
              "      <td>35.30</td>\n",
              "      <td>0.25</td>\n",
              "      <td>0.71</td>\n",
              "      <td>737624.0</td>\n",
              "      <td>2.598139e+07</td>\n",
              "      <td>1268.0</td>\n",
              "    </tr>\n",
              "    <tr>\n",
              "      <th>2</th>\n",
              "      <td>2030</td>\n",
              "      <td>Saudi Arabia Refineries Co.</td>\n",
              "      <td>SARCO</td>\n",
              "      <td>2020-03-03</td>\n",
              "      <td>34.70</td>\n",
              "      <td>35.15</td>\n",
              "      <td>34.70</td>\n",
              "      <td>35.05</td>\n",
              "      <td>1.05</td>\n",
              "      <td>3.09</td>\n",
              "      <td>489831.0</td>\n",
              "      <td>1.711641e+07</td>\n",
              "      <td>854.0</td>\n",
              "    </tr>\n",
              "    <tr>\n",
              "      <th>3</th>\n",
              "      <td>2030</td>\n",
              "      <td>Saudi Arabia Refineries Co.</td>\n",
              "      <td>SARCO</td>\n",
              "      <td>2020-03-02</td>\n",
              "      <td>35.20</td>\n",
              "      <td>35.65</td>\n",
              "      <td>34.00</td>\n",
              "      <td>34.00</td>\n",
              "      <td>-0.55</td>\n",
              "      <td>-1.59</td>\n",
              "      <td>736157.0</td>\n",
              "      <td>2.585870e+07</td>\n",
              "      <td>1242.0</td>\n",
              "    </tr>\n",
              "    <tr>\n",
              "      <th>4</th>\n",
              "      <td>2030</td>\n",
              "      <td>Saudi Arabia Refineries Co.</td>\n",
              "      <td>SARCO</td>\n",
              "      <td>2020-03-01</td>\n",
              "      <td>35.35</td>\n",
              "      <td>35.60</td>\n",
              "      <td>34.25</td>\n",
              "      <td>34.55</td>\n",
              "      <td>-2.05</td>\n",
              "      <td>-5.60</td>\n",
              "      <td>738685.0</td>\n",
              "      <td>2.574797e+07</td>\n",
              "      <td>1625.0</td>\n",
              "    </tr>\n",
              "    <tr>\n",
              "      <th>...</th>\n",
              "      <td>...</td>\n",
              "      <td>...</td>\n",
              "      <td>...</td>\n",
              "      <td>...</td>\n",
              "      <td>...</td>\n",
              "      <td>...</td>\n",
              "      <td>...</td>\n",
              "      <td>...</td>\n",
              "      <td>...</td>\n",
              "      <td>...</td>\n",
              "      <td>...</td>\n",
              "      <td>...</td>\n",
              "      <td>...</td>\n",
              "    </tr>\n",
              "    <tr>\n",
              "      <th>593814</th>\n",
              "      <td>4321</td>\n",
              "      <td>Arabian Centres Co.</td>\n",
              "      <td>ALMRAKEZ</td>\n",
              "      <td>2019-05-28</td>\n",
              "      <td>22.90</td>\n",
              "      <td>22.90</td>\n",
              "      <td>21.62</td>\n",
              "      <td>22.50</td>\n",
              "      <td>0.00</td>\n",
              "      <td>0.00</td>\n",
              "      <td>1860532.0</td>\n",
              "      <td>4.149566e+07</td>\n",
              "      <td>2023.0</td>\n",
              "    </tr>\n",
              "    <tr>\n",
              "      <th>593815</th>\n",
              "      <td>4321</td>\n",
              "      <td>Arabian Centres Co.</td>\n",
              "      <td>ALMRAKEZ</td>\n",
              "      <td>2019-05-27</td>\n",
              "      <td>23.30</td>\n",
              "      <td>23.32</td>\n",
              "      <td>22.24</td>\n",
              "      <td>22.50</td>\n",
              "      <td>-0.84</td>\n",
              "      <td>-3.60</td>\n",
              "      <td>4905676.0</td>\n",
              "      <td>1.114168e+08</td>\n",
              "      <td>3259.0</td>\n",
              "    </tr>\n",
              "    <tr>\n",
              "      <th>593816</th>\n",
              "      <td>4321</td>\n",
              "      <td>Arabian Centres Co.</td>\n",
              "      <td>ALMRAKEZ</td>\n",
              "      <td>2019-05-26</td>\n",
              "      <td>24.60</td>\n",
              "      <td>24.60</td>\n",
              "      <td>23.30</td>\n",
              "      <td>23.34</td>\n",
              "      <td>-1.16</td>\n",
              "      <td>-4.73</td>\n",
              "      <td>3908215.0</td>\n",
              "      <td>9.269862e+07</td>\n",
              "      <td>2672.0</td>\n",
              "    </tr>\n",
              "    <tr>\n",
              "      <th>593817</th>\n",
              "      <td>4321</td>\n",
              "      <td>Arabian Centres Co.</td>\n",
              "      <td>ALMRAKEZ</td>\n",
              "      <td>2019-05-23</td>\n",
              "      <td>24.80</td>\n",
              "      <td>25.00</td>\n",
              "      <td>24.34</td>\n",
              "      <td>24.50</td>\n",
              "      <td>-0.50</td>\n",
              "      <td>-2.00</td>\n",
              "      <td>4078214.0</td>\n",
              "      <td>1.002221e+08</td>\n",
              "      <td>5571.0</td>\n",
              "    </tr>\n",
              "    <tr>\n",
              "      <th>593818</th>\n",
              "      <td>4321</td>\n",
              "      <td>Arabian Centres Co.</td>\n",
              "      <td>ALMRAKEZ</td>\n",
              "      <td>2019-05-22</td>\n",
              "      <td>26.00</td>\n",
              "      <td>26.10</td>\n",
              "      <td>23.60</td>\n",
              "      <td>25.00</td>\n",
              "      <td>-1.00</td>\n",
              "      <td>-3.85</td>\n",
              "      <td>14220388.0</td>\n",
              "      <td>3.502633e+08</td>\n",
              "      <td>7183.0</td>\n",
              "    </tr>\n",
              "  </tbody>\n",
              "</table>\n",
              "<p>593819 rows × 13 columns</p>\n",
              "</div>"
            ],
            "text/plain": [
              "        symbol                         name  ...  value_traded no_trades \n",
              "0         2030  Saudi Arabia Refineries Co.  ...  1.539907e+07      804.0\n",
              "1         2030  Saudi Arabia Refineries Co.  ...  2.598139e+07     1268.0\n",
              "2         2030  Saudi Arabia Refineries Co.  ...  1.711641e+07      854.0\n",
              "3         2030  Saudi Arabia Refineries Co.  ...  2.585870e+07     1242.0\n",
              "4         2030  Saudi Arabia Refineries Co.  ...  2.574797e+07     1625.0\n",
              "...        ...                          ...  ...           ...        ...\n",
              "593814    4321          Arabian Centres Co.  ...  4.149566e+07     2023.0\n",
              "593815    4321          Arabian Centres Co.  ...  1.114168e+08     3259.0\n",
              "593816    4321          Arabian Centres Co.  ...  9.269862e+07     2672.0\n",
              "593817    4321          Arabian Centres Co.  ...  1.002221e+08     5571.0\n",
              "593818    4321          Arabian Centres Co.  ...  3.502633e+08     7183.0\n",
              "\n",
              "[593819 rows x 13 columns]"
            ]
          },
          "metadata": {},
          "execution_count": 5
        }
      ]
    },
    {
      "cell_type": "code",
      "source": [
        "df.info() # to print a summary of a DataFrame."
      ],
      "metadata": {
        "colab": {
          "base_uri": "https://localhost:8080/"
        },
        "id": "eX_5YdjpSQ7q",
        "outputId": "5b05cbcc-e8e2-4c93-cb49-511693aa0593"
      },
      "execution_count": 6,
      "outputs": [
        {
          "output_type": "stream",
          "name": "stdout",
          "text": [
            "<class 'pandas.core.frame.DataFrame'>\n",
            "RangeIndex: 593819 entries, 0 to 593818\n",
            "Data columns (total 14 columns):\n",
            " #   Column          Non-Null Count   Dtype  \n",
            "---  ------          --------------   -----  \n",
            " 0   symbol          593819 non-null  int64  \n",
            " 1   name            593819 non-null  object \n",
            " 2   trading_name    593819 non-null  object \n",
            " 3   sectoer         593819 non-null  object \n",
            " 4   date            593819 non-null  object \n",
            " 5   open            587364 non-null  float64\n",
            " 6   high            587122 non-null  float64\n",
            " 7   low             587122 non-null  float64\n",
            " 8   close           593819 non-null  float64\n",
            " 9   change          593819 non-null  float64\n",
            " 10  perc_Change     593819 non-null  float64\n",
            " 11  volume_traded   593819 non-null  float64\n",
            " 12  value_traded    593819 non-null  float64\n",
            " 13  no_trades       586128 non-null  float64\n",
            "dtypes: float64(9), int64(1), object(4)\n",
            "memory usage: 63.4+ MB\n"
          ]
        }
      ]
    },
    {
      "cell_type": "code",
      "execution_count": 7,
      "metadata": {
        "id": "8lpf6slP_H1K",
        "colab": {
          "base_uri": "https://localhost:8080/",
          "height": 297
        },
        "outputId": "8fe90bf0-7754-4fa4-dc57-fbb40b96aa21"
      },
      "outputs": [
        {
          "output_type": "execute_result",
          "data": {
            "text/html": [
              "<div>\n",
              "<style scoped>\n",
              "    .dataframe tbody tr th:only-of-type {\n",
              "        vertical-align: middle;\n",
              "    }\n",
              "\n",
              "    .dataframe tbody tr th {\n",
              "        vertical-align: top;\n",
              "    }\n",
              "\n",
              "    .dataframe thead th {\n",
              "        text-align: right;\n",
              "    }\n",
              "</style>\n",
              "<table border=\"1\" class=\"dataframe\">\n",
              "  <thead>\n",
              "    <tr style=\"text-align: right;\">\n",
              "      <th></th>\n",
              "      <th>symbol</th>\n",
              "      <th>open</th>\n",
              "      <th>high</th>\n",
              "      <th>low</th>\n",
              "      <th>close</th>\n",
              "      <th>change</th>\n",
              "      <th>perc_Change</th>\n",
              "      <th>volume_traded</th>\n",
              "      <th>value_traded</th>\n",
              "      <th>no_trades</th>\n",
              "    </tr>\n",
              "  </thead>\n",
              "  <tbody>\n",
              "    <tr>\n",
              "      <th>count</th>\n",
              "      <td>593819.000000</td>\n",
              "      <td>587364.000000</td>\n",
              "      <td>587122.000000</td>\n",
              "      <td>587122.000000</td>\n",
              "      <td>593819.000000</td>\n",
              "      <td>593819.000000</td>\n",
              "      <td>593819.000000</td>\n",
              "      <td>5.938190e+05</td>\n",
              "      <td>5.938190e+05</td>\n",
              "      <td>586128.000000</td>\n",
              "    </tr>\n",
              "    <tr>\n",
              "      <th>mean</th>\n",
              "      <td>3952.684793</td>\n",
              "      <td>41.237794</td>\n",
              "      <td>41.971636</td>\n",
              "      <td>40.593406</td>\n",
              "      <td>40.961602</td>\n",
              "      <td>0.001174</td>\n",
              "      <td>0.035652</td>\n",
              "      <td>1.673422e+06</td>\n",
              "      <td>5.008553e+07</td>\n",
              "      <td>960.642348</td>\n",
              "    </tr>\n",
              "    <tr>\n",
              "      <th>std</th>\n",
              "      <td>2284.498530</td>\n",
              "      <td>86.713646</td>\n",
              "      <td>89.178183</td>\n",
              "      <td>84.562283</td>\n",
              "      <td>86.491709</td>\n",
              "      <td>4.782545</td>\n",
              "      <td>3.480783</td>\n",
              "      <td>5.482121e+06</td>\n",
              "      <td>1.472969e+08</td>\n",
              "      <td>3401.794136</td>\n",
              "    </tr>\n",
              "    <tr>\n",
              "      <th>min</th>\n",
              "      <td>1010.000000</td>\n",
              "      <td>1.950000</td>\n",
              "      <td>1.950000</td>\n",
              "      <td>1.950000</td>\n",
              "      <td>0.000000</td>\n",
              "      <td>-681.200000</td>\n",
              "      <td>-100.000000</td>\n",
              "      <td>0.000000e+00</td>\n",
              "      <td>0.000000e+00</td>\n",
              "      <td>0.000000</td>\n",
              "    </tr>\n",
              "    <tr>\n",
              "      <th>25%</th>\n",
              "      <td>2140.000000</td>\n",
              "      <td>16.200000</td>\n",
              "      <td>16.400000</td>\n",
              "      <td>16.000000</td>\n",
              "      <td>16.070000</td>\n",
              "      <td>-0.250000</td>\n",
              "      <td>-0.910000</td>\n",
              "      <td>1.484920e+05</td>\n",
              "      <td>4.114858e+06</td>\n",
              "      <td>158.000000</td>\n",
              "    </tr>\n",
              "    <tr>\n",
              "      <th>50%</th>\n",
              "      <td>4004.000000</td>\n",
              "      <td>26.500000</td>\n",
              "      <td>26.905000</td>\n",
              "      <td>26.100000</td>\n",
              "      <td>26.300000</td>\n",
              "      <td>0.000000</td>\n",
              "      <td>0.000000</td>\n",
              "      <td>4.335560e+05</td>\n",
              "      <td>1.210533e+07</td>\n",
              "      <td>376.000000</td>\n",
              "    </tr>\n",
              "    <tr>\n",
              "      <th>75%</th>\n",
              "      <td>5110.000000</td>\n",
              "      <td>46.500000</td>\n",
              "      <td>47.200000</td>\n",
              "      <td>45.850000</td>\n",
              "      <td>46.200000</td>\n",
              "      <td>0.250000</td>\n",
              "      <td>0.910000</td>\n",
              "      <td>1.271184e+06</td>\n",
              "      <td>3.561017e+07</td>\n",
              "      <td>900.000000</td>\n",
              "    </tr>\n",
              "    <tr>\n",
              "      <th>max</th>\n",
              "      <td>8312.000000</td>\n",
              "      <td>6709.150000</td>\n",
              "      <td>6774.510000</td>\n",
              "      <td>6130.720000</td>\n",
              "      <td>6441.180000</td>\n",
              "      <td>578.430000</td>\n",
              "      <td>1634.440000</td>\n",
              "      <td>7.976659e+08</td>\n",
              "      <td>1.586582e+10</td>\n",
              "      <td>816526.000000</td>\n",
              "    </tr>\n",
              "  </tbody>\n",
              "</table>\n",
              "</div>"
            ],
            "text/plain": [
              "              symbol           open  ...  value_traded     no_trades \n",
              "count  593819.000000  587364.000000  ...  5.938190e+05  586128.000000\n",
              "mean     3952.684793      41.237794  ...  5.008553e+07     960.642348\n",
              "std      2284.498530      86.713646  ...  1.472969e+08    3401.794136\n",
              "min      1010.000000       1.950000  ...  0.000000e+00       0.000000\n",
              "25%      2140.000000      16.200000  ...  4.114858e+06     158.000000\n",
              "50%      4004.000000      26.500000  ...  1.210533e+07     376.000000\n",
              "75%      5110.000000      46.500000  ...  3.561017e+07     900.000000\n",
              "max      8312.000000    6709.150000  ...  1.586582e+10  816526.000000\n",
              "\n",
              "[8 rows x 10 columns]"
            ]
          },
          "metadata": {},
          "execution_count": 7
        }
      ],
      "source": [
        "df.describe() #to calculate some statistical data like percentile, mean and std of the numerical values of the Series or DataFrame"
      ]
    },
    {
      "cell_type": "code",
      "execution_count": 8,
      "metadata": {
        "id": "dNClh5iz_MMR",
        "colab": {
          "base_uri": "https://localhost:8080/"
        },
        "outputId": "6f0a8cea-b533-4f48-d668-d74f70ec0546"
      },
      "outputs": [
        {
          "output_type": "stream",
          "name": "stdout",
          "text": [
            "number of duplicate rows:  (0, 14)\n"
          ]
        }
      ],
      "source": [
        "duplicate_rows = df[df.duplicated()]\n",
        "print(\"number of duplicate rows: \" , duplicate_rows.shape ) # check the number of duplicate rows "
      ]
    },
    {
      "cell_type": "code",
      "execution_count": 9,
      "metadata": {
        "id": "gikVB0tZ_Rgy",
        "colab": {
          "base_uri": "https://localhost:8080/"
        },
        "outputId": "d60cb7be-d9f9-4403-faed-c48d5403dbf6"
      },
      "outputs": [
        {
          "output_type": "stream",
          "name": "stdout",
          "text": [
            "symbol               0\n",
            "name                 0\n",
            "trading_name         0\n",
            "sectoer              0\n",
            "date                 0\n",
            "open              6455\n",
            "high              6697\n",
            "low               6697\n",
            "close                0\n",
            "change               0\n",
            "perc_Change          0\n",
            "volume_traded        0\n",
            "value_traded         0\n",
            "no_trades         7691\n",
            "dtype: int64\n"
          ]
        }
      ],
      "source": [
        "print(df.isnull().sum()) # finding the null values "
      ]
    },
    {
      "cell_type": "code",
      "execution_count": 10,
      "metadata": {
        "id": "87VO07pl_Xa4",
        "colab": {
          "base_uri": "https://localhost:8080/"
        },
        "outputId": "b77efc66-8573-419b-ff30-390f084cd046"
      },
      "outputs": [
        {
          "output_type": "execute_result",
          "data": {
            "text/plain": [
              "symbol            579431\n",
              "name              579431\n",
              "trading_name      579431\n",
              "sectoer           579431\n",
              "date              579431\n",
              "open              579431\n",
              "high              579431\n",
              "low               579431\n",
              "close             579431\n",
              "change            579431\n",
              "perc_Change       579431\n",
              "volume_traded     579431\n",
              "value_traded      579431\n",
              "no_trades         579431\n",
              "dtype: int64"
            ]
          },
          "metadata": {},
          "execution_count": 10
        }
      ],
      "source": [
        "df = df.dropna() # dropping the missing values \n",
        "df.count()"
      ]
    },
    {
      "cell_type": "code",
      "execution_count": 11,
      "metadata": {
        "id": "BufmHch8_XrH",
        "colab": {
          "base_uri": "https://localhost:8080/"
        },
        "outputId": "0958965e-e602-4717-b50b-3f0baabb2cd4"
      },
      "outputs": [
        {
          "output_type": "stream",
          "name": "stdout",
          "text": [
            "symbol            0\n",
            "name              0\n",
            "trading_name      0\n",
            "sectoer           0\n",
            "date              0\n",
            "open              0\n",
            "high              0\n",
            "low               0\n",
            "close             0\n",
            "change            0\n",
            "perc_Change       0\n",
            "volume_traded     0\n",
            "value_traded      0\n",
            "no_trades         0\n",
            "dtype: int64\n"
          ]
        }
      ],
      "source": [
        "print(df.isnull().sum()) # results after dropping the values"
      ]
    },
    {
      "cell_type": "markdown",
      "source": [
        "### **Visualizing the data **"
      ],
      "metadata": {
        "id": "oH8dyYcYIu_7"
      }
    },
    {
      "cell_type": "code",
      "execution_count": null,
      "metadata": {
        "id": "ae4VB8tRFqiv"
      },
      "outputs": [],
      "source": [
        "sns.pairplot(df) #Plotting the numerical variables against each other"
      ]
    },
    {
      "cell_type": "code",
      "source": [
        "sns.kdeplot(df['open']) # to visualize the kde distribution of observations in the dataset"
      ],
      "metadata": {
        "colab": {
          "base_uri": "https://localhost:8080/",
          "height": 298
        },
        "id": "Lol_-pIXudUw",
        "outputId": "e08afab3-85e7-4579-845f-6014533c5285"
      },
      "execution_count": 12,
      "outputs": [
        {
          "output_type": "execute_result",
          "data": {
            "text/plain": [
              "<matplotlib.axes._subplots.AxesSubplot at 0x7f83388f7690>"
            ]
          },
          "metadata": {},
          "execution_count": 12
        },
        {
          "output_type": "display_data",
          "data": {
            "image/png": "[encoded data removed]",
            "text/plain": [
              "<Figure size 432x288 with 1 Axes>"
            ]
          },
          "metadata": {
            "needs_background": "light"
          }
        }
      ]
    },
    {
      "cell_type": "markdown",
      "source": [
        "**###Questions**\n",
        "\n",
        "Can you compare the companies based on the total traded values?\n",
        "\n",
        "Can you identify the dates with a very large number of trades for a specific period of time?\n"
      ],
      "metadata": {
        "id": "ANRFHHmwhRxv"
      }
    },
    {
      "cell_type": "code",
      "source": [
        "sns.barplot(x = 'name',y='value_traded',data=df) # to understand and compare the companies based on the total traded values "
      ],
      "metadata": {
        "colab": {
          "base_uri": "https://localhost:8080/",
          "height": 307
        },
        "id": "RHB-z1EYvnRm",
        "outputId": "ea0eb391-1a29-4732-d5dd-bc3edfb5569e"
      },
      "execution_count": 13,
      "outputs": [
        {
          "output_type": "execute_result",
          "data": {
            "text/plain": [
              "<matplotlib.axes._subplots.AxesSubplot at 0x7f832c8a8b10>"
            ]
          },
          "metadata": {},
          "execution_count": 13
        },
        {
          "output_type": "display_data",
          "data": {
            "image/png": "[encoded data removed]",
            "text/plain": [
              "<Figure size 432x288 with 1 Axes>"
            ]
          },
          "metadata": {
            "needs_background": "light"
          }
        }
      ]
    },
    {
      "cell_type": "code",
      "source": [
        "start_date = pd.to_datetime('2000-03-05')\n",
        "end_date = pd.to_datetime('2010-9-30')                         \n",
        "df['date'] = pd.to_datetime(df['date']) \n",
        "new_df = (df['date']>= start_date) & (df['date']<= end_date)\n",
        "df1 = df.loc[new_df]\n",
        "stock_data = df1.set_index('date')\n",
        "top_plt = plt.subplot2grid((5,4), (0, 0), rowspan=3, colspan=4)\n",
        "top_plt.plot(stock_data.index, stock_data[\"close\"])\n",
        "plt.title('previous stock prices of Saudi stocks')"
      ],
      "metadata": {
        "colab": {
          "base_uri": "https://localhost:8080/",
          "height": 208
        },
        "id": "Wn-S9S9BhMmR",
        "outputId": "f71371bb-6fe6-4b70-a6a3-e01916252f97"
      },
      "execution_count": 14,
      "outputs": [
        {
          "output_type": "execute_result",
          "data": {
            "text/plain": [
              "Text(0.5, 1.0, 'previous stock prices of Saudi stocks')"
            ]
          },
          "metadata": {},
          "execution_count": 14
        },
        {
          "output_type": "display_data",
          "data": {
            "image/png": "[encoded data removed]",
            "text/plain": [
              "<Figure size 432x288 with 1 Axes>"
            ]
          },
          "metadata": {
            "needs_background": "light"
          }
        }
      ]
    },
    {
      "cell_type": "code",
      "source": [
        "df.corr() # check the values that are most correlated with the target "
      ],
      "metadata": {
        "colab": {
          "base_uri": "https://localhost:8080/",
          "height": 359
        },
        "id": "9x9IchQxQhvd",
        "outputId": "222dbdd6-147a-4601-e72f-54b3f07a1d16"
      },
      "execution_count": 15,
      "outputs": [
        {
          "output_type": "execute_result",
          "data": {
            "text/html": [
              "<div>\n",
              "<style scoped>\n",
              "    .dataframe tbody tr th:only-of-type {\n",
              "        vertical-align: middle;\n",
              "    }\n",
              "\n",
              "    .dataframe tbody tr th {\n",
              "        vertical-align: top;\n",
              "    }\n",
              "\n",
              "    .dataframe thead th {\n",
              "        text-align: right;\n",
              "    }\n",
              "</style>\n",
              "<table border=\"1\" class=\"dataframe\">\n",
              "  <thead>\n",
              "    <tr style=\"text-align: right;\">\n",
              "      <th></th>\n",
              "      <th>symbol</th>\n",
              "      <th>open</th>\n",
              "      <th>high</th>\n",
              "      <th>low</th>\n",
              "      <th>close</th>\n",
              "      <th>change</th>\n",
              "      <th>perc_Change</th>\n",
              "      <th>volume_traded</th>\n",
              "      <th>value_traded</th>\n",
              "      <th>no_trades</th>\n",
              "    </tr>\n",
              "  </thead>\n",
              "  <tbody>\n",
              "    <tr>\n",
              "      <th>symbol</th>\n",
              "      <td>1.000000</td>\n",
              "      <td>-0.000187</td>\n",
              "      <td>0.000470</td>\n",
              "      <td>-0.000824</td>\n",
              "      <td>-0.000393</td>\n",
              "      <td>0.001049</td>\n",
              "      <td>-0.000715</td>\n",
              "      <td>-0.017364</td>\n",
              "      <td>-0.023426</td>\n",
              "      <td>0.024447</td>\n",
              "    </tr>\n",
              "    <tr>\n",
              "      <th>open</th>\n",
              "      <td>-0.000187</td>\n",
              "      <td>1.000000</td>\n",
              "      <td>0.999429</td>\n",
              "      <td>0.999489</td>\n",
              "      <td>0.998964</td>\n",
              "      <td>-0.008890</td>\n",
              "      <td>-0.000235</td>\n",
              "      <td>-0.038034</td>\n",
              "      <td>0.197110</td>\n",
              "      <td>0.138067</td>\n",
              "    </tr>\n",
              "    <tr>\n",
              "      <th>high</th>\n",
              "      <td>0.000470</td>\n",
              "      <td>0.999429</td>\n",
              "      <td>1.000000</td>\n",
              "      <td>0.999036</td>\n",
              "      <td>0.999420</td>\n",
              "      <td>0.007595</td>\n",
              "      <td>0.004518</td>\n",
              "      <td>-0.036040</td>\n",
              "      <td>0.201976</td>\n",
              "      <td>0.142394</td>\n",
              "    </tr>\n",
              "    <tr>\n",
              "      <th>low</th>\n",
              "      <td>-0.000824</td>\n",
              "      <td>0.999489</td>\n",
              "      <td>0.999036</td>\n",
              "      <td>1.000000</td>\n",
              "      <td>0.999313</td>\n",
              "      <td>0.001359</td>\n",
              "      <td>0.003699</td>\n",
              "      <td>-0.039116</td>\n",
              "      <td>0.195352</td>\n",
              "      <td>0.135165</td>\n",
              "    </tr>\n",
              "    <tr>\n",
              "      <th>close</th>\n",
              "      <td>-0.000393</td>\n",
              "      <td>0.998964</td>\n",
              "      <td>0.999420</td>\n",
              "      <td>0.999313</td>\n",
              "      <td>1.000000</td>\n",
              "      <td>0.026114</td>\n",
              "      <td>0.009232</td>\n",
              "      <td>-0.037316</td>\n",
              "      <td>0.199868</td>\n",
              "      <td>0.138874</td>\n",
              "    </tr>\n",
              "    <tr>\n",
              "      <th>change</th>\n",
              "      <td>0.001049</td>\n",
              "      <td>-0.008890</td>\n",
              "      <td>0.007595</td>\n",
              "      <td>0.001359</td>\n",
              "      <td>0.026114</td>\n",
              "      <td>1.000000</td>\n",
              "      <td>0.292096</td>\n",
              "      <td>0.024720</td>\n",
              "      <td>0.096193</td>\n",
              "      <td>0.095879</td>\n",
              "    </tr>\n",
              "    <tr>\n",
              "      <th>perc_Change</th>\n",
              "      <td>-0.000715</td>\n",
              "      <td>-0.000235</td>\n",
              "      <td>0.004518</td>\n",
              "      <td>0.003699</td>\n",
              "      <td>0.009232</td>\n",
              "      <td>0.292096</td>\n",
              "      <td>1.000000</td>\n",
              "      <td>0.080197</td>\n",
              "      <td>0.093340</td>\n",
              "      <td>0.082033</td>\n",
              "    </tr>\n",
              "    <tr>\n",
              "      <th>volume_traded</th>\n",
              "      <td>-0.017364</td>\n",
              "      <td>-0.038034</td>\n",
              "      <td>-0.036040</td>\n",
              "      <td>-0.039116</td>\n",
              "      <td>-0.037316</td>\n",
              "      <td>0.024720</td>\n",
              "      <td>0.080197</td>\n",
              "      <td>1.000000</td>\n",
              "      <td>0.688813</td>\n",
              "      <td>0.469689</td>\n",
              "    </tr>\n",
              "    <tr>\n",
              "      <th>value_traded</th>\n",
              "      <td>-0.023426</td>\n",
              "      <td>0.197110</td>\n",
              "      <td>0.201976</td>\n",
              "      <td>0.195352</td>\n",
              "      <td>0.199868</td>\n",
              "      <td>0.096193</td>\n",
              "      <td>0.093340</td>\n",
              "      <td>0.688813</td>\n",
              "      <td>1.000000</td>\n",
              "      <td>0.601935</td>\n",
              "    </tr>\n",
              "    <tr>\n",
              "      <th>no_trades</th>\n",
              "      <td>0.024447</td>\n",
              "      <td>0.138067</td>\n",
              "      <td>0.142394</td>\n",
              "      <td>0.135165</td>\n",
              "      <td>0.138874</td>\n",
              "      <td>0.095879</td>\n",
              "      <td>0.082033</td>\n",
              "      <td>0.469689</td>\n",
              "      <td>0.601935</td>\n",
              "      <td>1.000000</td>\n",
              "    </tr>\n",
              "  </tbody>\n",
              "</table>\n",
              "</div>"
            ],
            "text/plain": [
              "                  symbol      open  ...  value_traded  no_trades \n",
              "symbol          1.000000 -0.000187  ...     -0.023426    0.024447\n",
              "open           -0.000187  1.000000  ...      0.197110    0.138067\n",
              "high            0.000470  0.999429  ...      0.201976    0.142394\n",
              "low            -0.000824  0.999489  ...      0.195352    0.135165\n",
              "close          -0.000393  0.998964  ...      0.199868    0.138874\n",
              "change          0.001049 -0.008890  ...      0.096193    0.095879\n",
              "perc_Change    -0.000715 -0.000235  ...      0.093340    0.082033\n",
              "volume_traded  -0.017364 -0.038034  ...      0.688813    0.469689\n",
              "value_traded   -0.023426  0.197110  ...      1.000000    0.601935\n",
              "no_trades       0.024447  0.138067  ...      0.601935    1.000000\n",
              "\n",
              "[10 rows x 10 columns]"
            ]
          },
          "metadata": {},
          "execution_count": 15
        }
      ]
    },
    {
      "cell_type": "code",
      "source": [
        "object_columns = df.select_dtypes(include=['object']).columns # converting the objects to numerical values "
      ],
      "metadata": {
        "id": "Hs4aBmJjQp3i"
      },
      "execution_count": 16,
      "outputs": []
    },
    {
      "cell_type": "code",
      "source": [
        "from sklearn.preprocessing import OrdinalEncoder\n",
        "\n",
        "coding = OrdinalEncoder()\n",
        "df[object_columns] = coding.fit_transform(df[object_columns])\n",
        "df.head()"
      ],
      "metadata": {
        "colab": {
          "base_uri": "https://localhost:8080/",
          "height": 204
        },
        "id": "0iWFASHZQqGt",
        "outputId": "e7bc1591-d850-4141-9fe4-8af5ba673e32"
      },
      "execution_count": 17,
      "outputs": [
        {
          "output_type": "execute_result",
          "data": {
            "text/html": [
              "<div>\n",
              "<style scoped>\n",
              "    .dataframe tbody tr th:only-of-type {\n",
              "        vertical-align: middle;\n",
              "    }\n",
              "\n",
              "    .dataframe tbody tr th {\n",
              "        vertical-align: top;\n",
              "    }\n",
              "\n",
              "    .dataframe thead th {\n",
              "        text-align: right;\n",
              "    }\n",
              "</style>\n",
              "<table border=\"1\" class=\"dataframe\">\n",
              "  <thead>\n",
              "    <tr style=\"text-align: right;\">\n",
              "      <th></th>\n",
              "      <th>symbol</th>\n",
              "      <th>name</th>\n",
              "      <th>trading_name</th>\n",
              "      <th>sectoer</th>\n",
              "      <th>date</th>\n",
              "      <th>open</th>\n",
              "      <th>high</th>\n",
              "      <th>low</th>\n",
              "      <th>close</th>\n",
              "      <th>change</th>\n",
              "      <th>perc_Change</th>\n",
              "      <th>volume_traded</th>\n",
              "      <th>value_traded</th>\n",
              "      <th>no_trades</th>\n",
              "    </tr>\n",
              "  </thead>\n",
              "  <tbody>\n",
              "    <tr>\n",
              "      <th>0</th>\n",
              "      <td>2030</td>\n",
              "      <td>131.0</td>\n",
              "      <td>142.0</td>\n",
              "      <td>3.0</td>\n",
              "      <td>2020-03-05</td>\n",
              "      <td>35.55</td>\n",
              "      <td>35.85</td>\n",
              "      <td>34.90</td>\n",
              "      <td>34.90</td>\n",
              "      <td>-0.40</td>\n",
              "      <td>-1.13</td>\n",
              "      <td>436609.0</td>\n",
              "      <td>15399073.50</td>\n",
              "      <td>804.0</td>\n",
              "    </tr>\n",
              "    <tr>\n",
              "      <th>1</th>\n",
              "      <td>2030</td>\n",
              "      <td>131.0</td>\n",
              "      <td>142.0</td>\n",
              "      <td>3.0</td>\n",
              "      <td>2020-03-04</td>\n",
              "      <td>34.70</td>\n",
              "      <td>35.65</td>\n",
              "      <td>34.50</td>\n",
              "      <td>35.30</td>\n",
              "      <td>0.25</td>\n",
              "      <td>0.71</td>\n",
              "      <td>737624.0</td>\n",
              "      <td>25981391.35</td>\n",
              "      <td>1268.0</td>\n",
              "    </tr>\n",
              "    <tr>\n",
              "      <th>2</th>\n",
              "      <td>2030</td>\n",
              "      <td>131.0</td>\n",
              "      <td>142.0</td>\n",
              "      <td>3.0</td>\n",
              "      <td>2020-03-03</td>\n",
              "      <td>34.70</td>\n",
              "      <td>35.15</td>\n",
              "      <td>34.70</td>\n",
              "      <td>35.05</td>\n",
              "      <td>1.05</td>\n",
              "      <td>3.09</td>\n",
              "      <td>489831.0</td>\n",
              "      <td>17116413.40</td>\n",
              "      <td>854.0</td>\n",
              "    </tr>\n",
              "    <tr>\n",
              "      <th>3</th>\n",
              "      <td>2030</td>\n",
              "      <td>131.0</td>\n",
              "      <td>142.0</td>\n",
              "      <td>3.0</td>\n",
              "      <td>2020-03-02</td>\n",
              "      <td>35.20</td>\n",
              "      <td>35.65</td>\n",
              "      <td>34.00</td>\n",
              "      <td>34.00</td>\n",
              "      <td>-0.55</td>\n",
              "      <td>-1.59</td>\n",
              "      <td>736157.0</td>\n",
              "      <td>25858700.60</td>\n",
              "      <td>1242.0</td>\n",
              "    </tr>\n",
              "    <tr>\n",
              "      <th>4</th>\n",
              "      <td>2030</td>\n",
              "      <td>131.0</td>\n",
              "      <td>142.0</td>\n",
              "      <td>3.0</td>\n",
              "      <td>2020-03-01</td>\n",
              "      <td>35.35</td>\n",
              "      <td>35.60</td>\n",
              "      <td>34.25</td>\n",
              "      <td>34.55</td>\n",
              "      <td>-2.05</td>\n",
              "      <td>-5.60</td>\n",
              "      <td>738685.0</td>\n",
              "      <td>25747967.55</td>\n",
              "      <td>1625.0</td>\n",
              "    </tr>\n",
              "  </tbody>\n",
              "</table>\n",
              "</div>"
            ],
            "text/plain": [
              "   symbol   name  trading_name   ...  volume_traded  value_traded  no_trades \n",
              "0    2030  131.0          142.0  ...        436609.0  15399073.50       804.0\n",
              "1    2030  131.0          142.0  ...        737624.0  25981391.35      1268.0\n",
              "2    2030  131.0          142.0  ...        489831.0  17116413.40       854.0\n",
              "3    2030  131.0          142.0  ...        736157.0  25858700.60      1242.0\n",
              "4    2030  131.0          142.0  ...        738685.0  25747967.55      1625.0\n",
              "\n",
              "[5 rows x 14 columns]"
            ]
          },
          "metadata": {},
          "execution_count": 17
        }
      ]
    },
    {
      "cell_type": "markdown",
      "source": [
        "### **Splitting the dataset into training and testing data **"
      ],
      "metadata": {
        "id": "3dHOjKRIJFW5"
      }
    },
    {
      "cell_type": "code",
      "execution_count": 18,
      "metadata": {
        "id": "Wh7ivwxw_X3U"
      },
      "outputs": [],
      "source": [
        "X = df[['open','high','low']] # defining the variables x and y \n",
        "y = df['close']"
      ]
    },
    {
      "cell_type": "code",
      "execution_count": 19,
      "metadata": {
        "colab": {
          "base_uri": "https://localhost:8080/",
          "height": 204
        },
        "id": "9wsXjgQS_4ie",
        "outputId": "0b1f5802-15f4-4ea8-81ee-56ddc182f8c6"
      },
      "outputs": [
        {
          "output_type": "execute_result",
          "data": {
            "text/html": [
              "<div>\n",
              "<style scoped>\n",
              "    .dataframe tbody tr th:only-of-type {\n",
              "        vertical-align: middle;\n",
              "    }\n",
              "\n",
              "    .dataframe tbody tr th {\n",
              "        vertical-align: top;\n",
              "    }\n",
              "\n",
              "    .dataframe thead th {\n",
              "        text-align: right;\n",
              "    }\n",
              "</style>\n",
              "<table border=\"1\" class=\"dataframe\">\n",
              "  <thead>\n",
              "    <tr style=\"text-align: right;\">\n",
              "      <th></th>\n",
              "      <th>open</th>\n",
              "      <th>high</th>\n",
              "      <th>low</th>\n",
              "    </tr>\n",
              "  </thead>\n",
              "  <tbody>\n",
              "    <tr>\n",
              "      <th>0</th>\n",
              "      <td>35.55</td>\n",
              "      <td>35.85</td>\n",
              "      <td>34.90</td>\n",
              "    </tr>\n",
              "    <tr>\n",
              "      <th>1</th>\n",
              "      <td>34.70</td>\n",
              "      <td>35.65</td>\n",
              "      <td>34.50</td>\n",
              "    </tr>\n",
              "    <tr>\n",
              "      <th>2</th>\n",
              "      <td>34.70</td>\n",
              "      <td>35.15</td>\n",
              "      <td>34.70</td>\n",
              "    </tr>\n",
              "    <tr>\n",
              "      <th>3</th>\n",
              "      <td>35.20</td>\n",
              "      <td>35.65</td>\n",
              "      <td>34.00</td>\n",
              "    </tr>\n",
              "    <tr>\n",
              "      <th>4</th>\n",
              "      <td>35.35</td>\n",
              "      <td>35.60</td>\n",
              "      <td>34.25</td>\n",
              "    </tr>\n",
              "  </tbody>\n",
              "</table>\n",
              "</div>"
            ],
            "text/plain": [
              "    open   high    low\n",
              "0  35.55  35.85  34.90\n",
              "1  34.70  35.65  34.50\n",
              "2  34.70  35.15  34.70\n",
              "3  35.20  35.65  34.00\n",
              "4  35.35  35.60  34.25"
            ]
          },
          "metadata": {},
          "execution_count": 19
        }
      ],
      "source": [
        "X.head()"
      ]
    },
    {
      "cell_type": "code",
      "execution_count": 20,
      "metadata": {
        "colab": {
          "base_uri": "https://localhost:8080/"
        },
        "id": "8QwH0MiS_4qk",
        "outputId": "062e3481-b8ba-4ac7-a16b-11af26aee1b7"
      },
      "outputs": [
        {
          "output_type": "execute_result",
          "data": {
            "text/plain": [
              "0    34.90\n",
              "1    35.30\n",
              "2    35.05\n",
              "3    34.00\n",
              "4    34.55\n",
              "Name: close, dtype: float64"
            ]
          },
          "metadata": {},
          "execution_count": 20
        }
      ],
      "source": [
        "y.head()"
      ]
    },
    {
      "cell_type": "code",
      "execution_count": 21,
      "metadata": {
        "id": "_IqO_xVW_4tR"
      },
      "outputs": [],
      "source": [
        "from sklearn.model_selection import train_test_split \n",
        "X_train, X_test, y_train, y_test = train_test_split(X, y, test_size=0.33)"
      ]
    },
    {
      "cell_type": "code",
      "execution_count": 22,
      "metadata": {
        "id": "8_viaOTu_4wI",
        "colab": {
          "base_uri": "https://localhost:8080/"
        },
        "outputId": "50c67fd8-0c1a-424f-90b4-3ec053d920d5"
      },
      "outputs": [
        {
          "output_type": "execute_result",
          "data": {
            "text/plain": [
              "((388218, 3), (191213, 3))"
            ]
          },
          "metadata": {},
          "execution_count": 22
        }
      ],
      "source": [
        "X_train.shape, X_test.shape"
      ]
    },
    {
      "cell_type": "code",
      "source": [
        "from sklearn.linear_model import LinearRegression"
      ],
      "metadata": {
        "id": "KnRyLYCpjFZp"
      },
      "execution_count": 23,
      "outputs": []
    },
    {
      "cell_type": "code",
      "source": [
        "lr1 = LinearRegression()"
      ],
      "metadata": {
        "id": "kvLKSulUjFok"
      },
      "execution_count": 24,
      "outputs": []
    },
    {
      "cell_type": "code",
      "source": [
        "lr1.fit(X_train, y_train) # Fit the model to a set of training data"
      ],
      "metadata": {
        "colab": {
          "base_uri": "https://localhost:8080/"
        },
        "id": "ofPCTGoyjFwl",
        "outputId": "ac55cee3-d3de-479d-baac-fdca719c2ac8"
      },
      "execution_count": 25,
      "outputs": [
        {
          "output_type": "execute_result",
          "data": {
            "text/plain": [
              "LinearRegression()"
            ]
          },
          "metadata": {},
          "execution_count": 25
        }
      ]
    },
    {
      "cell_type": "markdown",
      "source": [
        "### **Evaluating the model **"
      ],
      "metadata": {
        "id": "NbTRE5qtJcYG"
      }
    },
    {
      "cell_type": "code",
      "source": [
        "predictions = lr1.predict(X_test) #predict the target (close) based on a sample of independent variables (open,high,low)"
      ],
      "metadata": {
        "id": "wVtfE-GTjFzR"
      },
      "execution_count": 26,
      "outputs": []
    },
    {
      "cell_type": "code",
      "source": [
        "predictions"
      ],
      "metadata": {
        "colab": {
          "base_uri": "https://localhost:8080/"
        },
        "id": "XQLLo9I4jZ-P",
        "outputId": "c79e7c8c-96a8-4501-cca5-e20aff310340"
      },
      "execution_count": 27,
      "outputs": [
        {
          "output_type": "execute_result",
          "data": {
            "text/plain": [
              "array([38.23140117, 15.72932897, 14.44681671, ..., 52.44187941,\n",
              "       23.99869673, 26.14392518])"
            ]
          },
          "metadata": {},
          "execution_count": 27
        }
      ]
    },
    {
      "cell_type": "code",
      "source": [
        "# The coefficients\n",
        "print('Coefficients: \\n', lr1.coef_)"
      ],
      "metadata": {
        "colab": {
          "base_uri": "https://localhost:8080/"
        },
        "id": "mNLco-f4nQAo",
        "outputId": "948d8c75-5c8d-41f1-afcb-251c89aab6f8"
      },
      "execution_count": 28,
      "outputs": [
        {
          "output_type": "stream",
          "name": "stdout",
          "text": [
            "Coefficients: \n",
            " [-0.60056963  0.82903122  0.76953578]\n"
          ]
        }
      ]
    },
    {
      "cell_type": "code",
      "source": [
        "plt.scatter(y_test,predictions)\n",
        "plt.xlabel('Y Test')\n",
        "plt.ylabel('Predicted ')"
      ],
      "metadata": {
        "colab": {
          "base_uri": "https://localhost:8080/",
          "height": 297
        },
        "id": "PJHELGXojaHm",
        "outputId": "6a629343-1194-43ec-eef5-d149bda26098"
      },
      "execution_count": 29,
      "outputs": [
        {
          "output_type": "execute_result",
          "data": {
            "text/plain": [
              "Text(0, 0.5, 'Predicted ')"
            ]
          },
          "metadata": {},
          "execution_count": 29
        },
        {
          "output_type": "display_data",
          "data": {
            "image/png": "[encoded data removed]",
            "text/plain": [
              "<Figure size 432x288 with 1 Axes>"
            ]
          },
          "metadata": {
            "needs_background": "light"
          }
        }
      ]
    },
    {
      "cell_type": "code",
      "source": [
        "lr1.score(X_train, y_train) #Score the performance of a model on the sample of data "
      ],
      "metadata": {
        "colab": {
          "base_uri": "https://localhost:8080/"
        },
        "id": "p_9tSIdbjaKY",
        "outputId": "507748bc-7e4a-466f-a335-daeffde0bfd0"
      },
      "execution_count": 30,
      "outputs": [
        {
          "output_type": "execute_result",
          "data": {
            "text/plain": [
              "0.999509225496233"
            ]
          },
          "metadata": {},
          "execution_count": 30
        }
      ]
    },
    {
      "cell_type": "code",
      "source": [
        "from sklearn.metrics import r2_score"
      ],
      "metadata": {
        "id": "ytJpdWjfjaNX"
      },
      "execution_count": 31,
      "outputs": []
    },
    {
      "cell_type": "code",
      "source": [
        "y_predicted = lr1.predict(X) #s used to evaluate the performance of a linear regression model.\n",
        "r2_score(y, y_predicted)"
      ],
      "metadata": {
        "colab": {
          "base_uri": "https://localhost:8080/"
        },
        "id": "uZCfDsxFj0qh",
        "outputId": "59b68a59-2bc7-4f43-9e92-d011fa9a1ce1"
      },
      "execution_count": 32,
      "outputs": [
        {
          "output_type": "execute_result",
          "data": {
            "text/plain": [
              "0.9994141461760171"
            ]
          },
          "metadata": {},
          "execution_count": 32
        }
      ]
    },
    {
      "cell_type": "code",
      "source": [
        "adjusted_r_squared_1 = 1 - (1-(0.9994147552167887))*(len(y)-1)/(len(y)-X.shape[1]-1) # to show how well the data points fit line"
      ],
      "metadata": {
        "id": "Q0sLGIuIj07H"
      },
      "execution_count": 33,
      "outputs": []
    },
    {
      "cell_type": "code",
      "source": [
        "adjusted_r_squared_1"
      ],
      "metadata": {
        "colab": {
          "base_uri": "https://localhost:8080/"
        },
        "id": "iOewsHbUjaWj",
        "outputId": "9abb3fcd-06de-4296-921e-251c637e74a6"
      },
      "execution_count": 34,
      "outputs": [
        {
          "output_type": "execute_result",
          "data": {
            "text/plain": [
              "0.999414752186667"
            ]
          },
          "metadata": {},
          "execution_count": 34
        }
      ]
    },
    {
      "cell_type": "code",
      "source": [
        "# calculate these metrics\n",
        "from sklearn import metrics\n",
        "\n",
        "print('MAE:', metrics.mean_absolute_error(y_test, predictions)) #  risk metric corresponding to the expected value of the absolute error loss\n",
        "print('MSE:', metrics.mean_squared_error(y_test, predictions)) # a risk metric corresponding to the expected value of the squared error or loss.\n",
        "print('RMSE:', np.sqrt(metrics.mean_squared_error(y_test, predictions))) # measure of the differences between values predicted by the model o"
      ],
      "metadata": {
        "colab": {
          "base_uri": "https://localhost:8080/"
        },
        "id": "ZVME74IUoBv-",
        "outputId": "5b522080-4085-482e-8128-11105080c122"
      },
      "execution_count": 35,
      "outputs": [
        {
          "output_type": "stream",
          "name": "stdout",
          "text": [
            "MAE: 0.3639524340062466\n",
            "MSE: 5.905077509021435\n",
            "RMSE: 2.430036524215518\n"
          ]
        }
      ]
    },
    {
      "cell_type": "code",
      "source": [
        "#checking using the residuals which are the difference between the observed value and the mean value that the model predicts for that observation\n",
        "\n",
        "sns.distplot((y_test-predictions),bins=50); # it is normally distributed, so everything is ok with the data \n"
      ],
      "metadata": {
        "colab": {
          "base_uri": "https://localhost:8080/",
          "height": 337
        },
        "id": "GpR_QQDQoB7_",
        "outputId": "672a1ca3-09a2-497d-edf8-673540367140"
      },
      "execution_count": 36,
      "outputs": [
        {
          "output_type": "stream",
          "name": "stderr",
          "text": [
            "/usr/local/lib/python3.7/dist-packages/seaborn/distributions.py:2619: FutureWarning: `distplot` is a deprecated function and will be removed in a future version. Please adapt your code to use either `displot` (a figure-level function with similar flexibility) or `histplot` (an axes-level function for histograms).\n",
            "  warnings.warn(msg, FutureWarning)\n"
          ]
        },
        {
          "output_type": "display_data",
          "data": {
            "image/png": "[encoded data removed]",
            "text/plain": [
              "<Figure size 432x288 with 1 Axes>"
            ]
          },
          "metadata": {
            "needs_background": "light"
          }
        }
      ]
    },
    {
      "cell_type": "code",
      "source": [
        "coeffecients = pd.DataFrame(lr1.coef_,X.columns)\n",
        "coeffecients.columns = ['Coeffecient']\n",
        "coeffecients"
      ],
      "metadata": {
        "colab": {
          "base_uri": "https://localhost:8080/",
          "height": 142
        },
        "id": "tUev8eOaoCHc",
        "outputId": "a481c15d-42be-4610-bda3-cb38791b8195"
      },
      "execution_count": 37,
      "outputs": [
        {
          "output_type": "execute_result",
          "data": {
            "text/html": [
              "<div>\n",
              "<style scoped>\n",
              "    .dataframe tbody tr th:only-of-type {\n",
              "        vertical-align: middle;\n",
              "    }\n",
              "\n",
              "    .dataframe tbody tr th {\n",
              "        vertical-align: top;\n",
              "    }\n",
              "\n",
              "    .dataframe thead th {\n",
              "        text-align: right;\n",
              "    }\n",
              "</style>\n",
              "<table border=\"1\" class=\"dataframe\">\n",
              "  <thead>\n",
              "    <tr style=\"text-align: right;\">\n",
              "      <th></th>\n",
              "      <th>Coeffecient</th>\n",
              "    </tr>\n",
              "  </thead>\n",
              "  <tbody>\n",
              "    <tr>\n",
              "      <th>open</th>\n",
              "      <td>-0.600570</td>\n",
              "    </tr>\n",
              "    <tr>\n",
              "      <th>high</th>\n",
              "      <td>0.829031</td>\n",
              "    </tr>\n",
              "    <tr>\n",
              "      <th>low</th>\n",
              "      <td>0.769536</td>\n",
              "    </tr>\n",
              "  </tbody>\n",
              "</table>\n",
              "</div>"
            ],
            "text/plain": [
              "      Coeffecient\n",
              "open    -0.600570\n",
              "high     0.829031\n",
              "low      0.769536"
            ]
          },
          "metadata": {},
          "execution_count": 37
        }
      ]
    }
  ],
  "metadata": {
    "colab": {
      "collapsed_sections": [],
      "name": "Project.ipynb",
      "provenance": [],
      "authorship_tag": "ABX9TyMJGRnEUjof8Mtij7x18b3r",
      "include_colab_link": true
    },
    "kernelspec": {
      "display_name": "Python 3",
      "name": "python3"
    },
    "language_info": {
      "name": "python"
    }
  },
  "nbformat": 4,
  "nbformat_minor": 0
}